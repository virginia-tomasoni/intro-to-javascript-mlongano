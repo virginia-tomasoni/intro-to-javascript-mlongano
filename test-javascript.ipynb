{
 "cells": [
  {
   "cell_type": "code",
   "execution_count": 3,
   "metadata": {},
   "outputs": [
    {
     "name": "stdout",
     "output_type": "stream",
     "text": [
      "Hello, World!\n"
     ]
    }
   ],
   "source": [
    "console.log('Hello, World!');"
   ]
  },
  {
   "attachments": {},
   "cell_type": "markdown",
   "metadata": {},
   "source": [
    "# Esempi di come si compirtano i tipi di dato primitivi"
   ]
  },
  {
   "cell_type": "code",
   "execution_count": 5,
   "metadata": {},
   "outputs": [
    {
     "name": "stdout",
     "output_type": "stream",
     "text": [
      "30\n",
      "31\n",
      "hello\n",
      "hell\n"
     ]
    }
   ],
   "source": [
    "    {\n",
    "        let age = 30;\n",
    "        let age1 = age;\n",
    "        age = 31;\n",
    "        console.log(age1);\n",
    "        console.log(age);\n",
    "\n",
    "        let immutable = \"hello\";\n",
    "        let copy = immutable.slice(0, 4);\n",
    "        console.log(immutable);\n",
    "        console.log(copy);\n",
    "    }"
   ]
  },
  {
   "cell_type": "code",
   "execution_count": 8,
   "metadata": {},
   "outputs": [
    {
     "data": {
      "text/plain": [
       "\u001b[32m\"object\"\u001b[39m"
      ]
     },
     "execution_count": 8,
     "metadata": {},
     "output_type": "execute_result"
    }
   ],
   "source": [
    "typeof 1.23;\n",
    "typeof \"hello\";\n",
    "typeof true;\n",
    "typeof [];\n",
    "typeof {};"
   ]
  }
 ],
 "metadata": {
  "kernelspec": {
   "display_name": "Deno",
   "language": "typescript",
   "name": "deno"
  },
  "language_info": {
   "file_extension": ".ts",
   "mimetype": "text/x.typescript",
   "name": "typescript",
   "nb_converter": "script",
   "pygments_lexer": "typescript",
   "version": "5.3.3"
  }
 },
 "nbformat": 4,
 "nbformat_minor": 4
}
